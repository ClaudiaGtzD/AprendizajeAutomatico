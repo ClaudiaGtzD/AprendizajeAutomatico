{
  "cells": [
    {
      "cell_type": "markdown",
      "metadata": {
        "colab_type": "text",
        "id": "view-in-github"
      },
      "source": [
        "<a href=\"https://colab.research.google.com/github/ClaudiaGtzD/AprendizajeAutomatico/blob/master/Tarea_05_Colab.ipynb\" target=\"_parent\"><img src=\"https://colab.research.google.com/assets/colab-badge.svg\" alt=\"Open In Colab\"/></a>"
      ]
    },
    {
      "cell_type": "code",
      "execution_count": 20,
      "metadata": {
        "id": "QEb86ZYT96xI"
      },
      "outputs": [],
      "source": [
        "#Importaciones\n",
        "import warnings\n",
        "warnings.filterwarnings(\"ignore\")\n",
        "import pandas as pd\n",
        "import numpy as np\n",
        "import matplotlib.pyplot as plt\n",
        "from sklearn.preprocessing import MinMaxScaler\n",
        "from sklearn.cluster import KMeans, DBSCAN\n",
        "from sklearn.metrics import silhouette_score, davies_bouldin_score\n",
        "from numpy import ones, vstack\n",
        "from numpy.linalg import lstsq"
      ]
    },
    {
      "cell_type": "code",
      "execution_count": 21,
      "metadata": {
        "colab": {
          "base_uri": "https://localhost:8080/",
          "height": 443
        },
        "id": "z_T0MrLZ-iN6",
        "outputId": "957ec7dc-bcfd-4f19-9f5a-37523884f4be"
      },
      "outputs": [
        {
          "data": {
            "text/html": [
              "<div>\n",
              "<style scoped>\n",
              "    .dataframe tbody tr th:only-of-type {\n",
              "        vertical-align: middle;\n",
              "    }\n",
              "\n",
              "    .dataframe tbody tr th {\n",
              "        vertical-align: top;\n",
              "    }\n",
              "\n",
              "    .dataframe thead th {\n",
              "        text-align: right;\n",
              "    }\n",
              "</style>\n",
              "<table border=\"1\" class=\"dataframe\">\n",
              "  <thead>\n",
              "    <tr style=\"text-align: right;\">\n",
              "      <th></th>\n",
              "      <th>Fecha</th>\n",
              "      <th>Anio</th>\n",
              "      <th>Mes</th>\n",
              "      <th>NumMes</th>\n",
              "      <th>Dia</th>\n",
              "      <th>NumDia</th>\n",
              "      <th>Hora</th>\n",
              "      <th>NumHora</th>\n",
              "      <th>Generacion</th>\n",
              "      <th>Temperatura</th>\n",
              "      <th>...</th>\n",
              "      <th>Generacion_diff</th>\n",
              "      <th>Temperatura_diff</th>\n",
              "      <th>ProbabilidadLluvia_diff</th>\n",
              "      <th>HumedadRelativa_diff</th>\n",
              "      <th>VelocidadViento_diff</th>\n",
              "      <th>DireccionViento_diff</th>\n",
              "      <th>IndiceUV_diff</th>\n",
              "      <th>VelocidadRafaga_diff</th>\n",
              "      <th>Precipitacion_diff</th>\n",
              "      <th>DPT_diff</th>\n",
              "    </tr>\n",
              "  </thead>\n",
              "  <tbody>\n",
              "    <tr>\n",
              "      <th>0</th>\n",
              "      <td>1.625184e+09</td>\n",
              "      <td>2021</td>\n",
              "      <td>199</td>\n",
              "      <td>7</td>\n",
              "      <td>6027</td>\n",
              "      <td>2</td>\n",
              "      <td>144624</td>\n",
              "      <td>0</td>\n",
              "      <td>0.0000</td>\n",
              "      <td>18.0</td>\n",
              "      <td>...</td>\n",
              "      <td>0.0000</td>\n",
              "      <td>-1.0</td>\n",
              "      <td>4</td>\n",
              "      <td>1.0</td>\n",
              "      <td>-2.0</td>\n",
              "      <td>0.0</td>\n",
              "      <td>0</td>\n",
              "      <td>-2.0</td>\n",
              "      <td>0.0</td>\n",
              "      <td>0.0</td>\n",
              "    </tr>\n",
              "    <tr>\n",
              "      <th>1</th>\n",
              "      <td>1.625188e+09</td>\n",
              "      <td>2021</td>\n",
              "      <td>199</td>\n",
              "      <td>7</td>\n",
              "      <td>6027</td>\n",
              "      <td>2</td>\n",
              "      <td>144625</td>\n",
              "      <td>1</td>\n",
              "      <td>0.0000</td>\n",
              "      <td>18.0</td>\n",
              "      <td>...</td>\n",
              "      <td>0.0000</td>\n",
              "      <td>0.0</td>\n",
              "      <td>8</td>\n",
              "      <td>0.0</td>\n",
              "      <td>0.0</td>\n",
              "      <td>0.0</td>\n",
              "      <td>0</td>\n",
              "      <td>-2.0</td>\n",
              "      <td>0.0</td>\n",
              "      <td>0.0</td>\n",
              "    </tr>\n",
              "    <tr>\n",
              "      <th>2</th>\n",
              "      <td>1.625191e+09</td>\n",
              "      <td>2021</td>\n",
              "      <td>199</td>\n",
              "      <td>7</td>\n",
              "      <td>6027</td>\n",
              "      <td>2</td>\n",
              "      <td>144626</td>\n",
              "      <td>2</td>\n",
              "      <td>0.0000</td>\n",
              "      <td>18.0</td>\n",
              "      <td>...</td>\n",
              "      <td>0.0000</td>\n",
              "      <td>0.0</td>\n",
              "      <td>5</td>\n",
              "      <td>2.0</td>\n",
              "      <td>-2.0</td>\n",
              "      <td>0.0</td>\n",
              "      <td>0</td>\n",
              "      <td>-2.0</td>\n",
              "      <td>0.0</td>\n",
              "      <td>0.0</td>\n",
              "    </tr>\n",
              "    <tr>\n",
              "      <th>3</th>\n",
              "      <td>1.625195e+09</td>\n",
              "      <td>2021</td>\n",
              "      <td>199</td>\n",
              "      <td>7</td>\n",
              "      <td>6027</td>\n",
              "      <td>2</td>\n",
              "      <td>144627</td>\n",
              "      <td>3</td>\n",
              "      <td>0.0000</td>\n",
              "      <td>17.0</td>\n",
              "      <td>...</td>\n",
              "      <td>0.0000</td>\n",
              "      <td>-1.0</td>\n",
              "      <td>0</td>\n",
              "      <td>1.0</td>\n",
              "      <td>0.0</td>\n",
              "      <td>0.0</td>\n",
              "      <td>0</td>\n",
              "      <td>-2.0</td>\n",
              "      <td>0.0</td>\n",
              "      <td>-1.0</td>\n",
              "    </tr>\n",
              "    <tr>\n",
              "      <th>4</th>\n",
              "      <td>1.625198e+09</td>\n",
              "      <td>2021</td>\n",
              "      <td>199</td>\n",
              "      <td>7</td>\n",
              "      <td>6027</td>\n",
              "      <td>2</td>\n",
              "      <td>144628</td>\n",
              "      <td>4</td>\n",
              "      <td>0.0000</td>\n",
              "      <td>17.0</td>\n",
              "      <td>...</td>\n",
              "      <td>0.0000</td>\n",
              "      <td>0.0</td>\n",
              "      <td>0</td>\n",
              "      <td>7.0</td>\n",
              "      <td>0.0</td>\n",
              "      <td>0.0</td>\n",
              "      <td>0</td>\n",
              "      <td>-2.0</td>\n",
              "      <td>0.0</td>\n",
              "      <td>1.0</td>\n",
              "    </tr>\n",
              "    <tr>\n",
              "      <th>...</th>\n",
              "      <td>...</td>\n",
              "      <td>...</td>\n",
              "      <td>...</td>\n",
              "      <td>...</td>\n",
              "      <td>...</td>\n",
              "      <td>...</td>\n",
              "      <td>...</td>\n",
              "      <td>...</td>\n",
              "      <td>...</td>\n",
              "      <td>...</td>\n",
              "      <td>...</td>\n",
              "      <td>...</td>\n",
              "      <td>...</td>\n",
              "      <td>...</td>\n",
              "      <td>...</td>\n",
              "      <td>...</td>\n",
              "      <td>...</td>\n",
              "      <td>...</td>\n",
              "      <td>...</td>\n",
              "      <td>...</td>\n",
              "      <td>...</td>\n",
              "    </tr>\n",
              "    <tr>\n",
              "      <th>18917</th>\n",
              "      <td>1.693508e+09</td>\n",
              "      <td>2023</td>\n",
              "      <td>224</td>\n",
              "      <td>8</td>\n",
              "      <td>6817</td>\n",
              "      <td>31</td>\n",
              "      <td>163603</td>\n",
              "      <td>19</td>\n",
              "      <td>1732.7788</td>\n",
              "      <td>25.2</td>\n",
              "      <td>...</td>\n",
              "      <td>1165.2214</td>\n",
              "      <td>0.6</td>\n",
              "      <td>0</td>\n",
              "      <td>-11.0</td>\n",
              "      <td>-2.5</td>\n",
              "      <td>16.0</td>\n",
              "      <td>0</td>\n",
              "      <td>-5.4</td>\n",
              "      <td>0.0</td>\n",
              "      <td>-3.4</td>\n",
              "    </tr>\n",
              "    <tr>\n",
              "      <th>18918</th>\n",
              "      <td>1.693512e+09</td>\n",
              "      <td>2023</td>\n",
              "      <td>224</td>\n",
              "      <td>8</td>\n",
              "      <td>6817</td>\n",
              "      <td>31</td>\n",
              "      <td>163604</td>\n",
              "      <td>20</td>\n",
              "      <td>0.0000</td>\n",
              "      <td>21.5</td>\n",
              "      <td>...</td>\n",
              "      <td>0.0000</td>\n",
              "      <td>2.5</td>\n",
              "      <td>0</td>\n",
              "      <td>-20.0</td>\n",
              "      <td>-1.4</td>\n",
              "      <td>43.0</td>\n",
              "      <td>0</td>\n",
              "      <td>-3.6</td>\n",
              "      <td>-1.4</td>\n",
              "      <td>-2.7</td>\n",
              "    </tr>\n",
              "    <tr>\n",
              "      <th>18919</th>\n",
              "      <td>1.693516e+09</td>\n",
              "      <td>2023</td>\n",
              "      <td>224</td>\n",
              "      <td>8</td>\n",
              "      <td>6817</td>\n",
              "      <td>31</td>\n",
              "      <td>163605</td>\n",
              "      <td>21</td>\n",
              "      <td>0.0000</td>\n",
              "      <td>20.8</td>\n",
              "      <td>...</td>\n",
              "      <td>0.0000</td>\n",
              "      <td>2.4</td>\n",
              "      <td>0</td>\n",
              "      <td>-20.0</td>\n",
              "      <td>0.3</td>\n",
              "      <td>33.0</td>\n",
              "      <td>0</td>\n",
              "      <td>-2.8</td>\n",
              "      <td>-1.3</td>\n",
              "      <td>-2.6</td>\n",
              "    </tr>\n",
              "    <tr>\n",
              "      <th>18920</th>\n",
              "      <td>1.693519e+09</td>\n",
              "      <td>2023</td>\n",
              "      <td>224</td>\n",
              "      <td>8</td>\n",
              "      <td>6817</td>\n",
              "      <td>31</td>\n",
              "      <td>163606</td>\n",
              "      <td>22</td>\n",
              "      <td>0.0000</td>\n",
              "      <td>18.2</td>\n",
              "      <td>...</td>\n",
              "      <td>0.0000</td>\n",
              "      <td>0.2</td>\n",
              "      <td>0</td>\n",
              "      <td>-28.0</td>\n",
              "      <td>5.8</td>\n",
              "      <td>-9.0</td>\n",
              "      <td>0</td>\n",
              "      <td>5.0</td>\n",
              "      <td>0.0</td>\n",
              "      <td>-6.3</td>\n",
              "    </tr>\n",
              "    <tr>\n",
              "      <th>18921</th>\n",
              "      <td>1.693523e+09</td>\n",
              "      <td>2023</td>\n",
              "      <td>224</td>\n",
              "      <td>8</td>\n",
              "      <td>6817</td>\n",
              "      <td>31</td>\n",
              "      <td>163607</td>\n",
              "      <td>23</td>\n",
              "      <td>0.0000</td>\n",
              "      <td>19.9</td>\n",
              "      <td>...</td>\n",
              "      <td>0.0000</td>\n",
              "      <td>1.0</td>\n",
              "      <td>0</td>\n",
              "      <td>-9.0</td>\n",
              "      <td>4.7</td>\n",
              "      <td>-65.0</td>\n",
              "      <td>0</td>\n",
              "      <td>4.7</td>\n",
              "      <td>-0.9</td>\n",
              "      <td>-1.4</td>\n",
              "    </tr>\n",
              "  </tbody>\n",
              "</table>\n",
              "<p>18922 rows × 33 columns</p>\n",
              "</div>"
            ],
            "text/plain": [
              "              Fecha  Anio  Mes  NumMes   Dia  NumDia    Hora  NumHora  \\\n",
              "0      1.625184e+09  2021  199       7  6027       2  144624        0   \n",
              "1      1.625188e+09  2021  199       7  6027       2  144625        1   \n",
              "2      1.625191e+09  2021  199       7  6027       2  144626        2   \n",
              "3      1.625195e+09  2021  199       7  6027       2  144627        3   \n",
              "4      1.625198e+09  2021  199       7  6027       2  144628        4   \n",
              "...             ...   ...  ...     ...   ...     ...     ...      ...   \n",
              "18917  1.693508e+09  2023  224       8  6817      31  163603       19   \n",
              "18918  1.693512e+09  2023  224       8  6817      31  163604       20   \n",
              "18919  1.693516e+09  2023  224       8  6817      31  163605       21   \n",
              "18920  1.693519e+09  2023  224       8  6817      31  163606       22   \n",
              "18921  1.693523e+09  2023  224       8  6817      31  163607       23   \n",
              "\n",
              "       Generacion  Temperatura  ...  Generacion_diff  Temperatura_diff  \\\n",
              "0          0.0000         18.0  ...           0.0000              -1.0   \n",
              "1          0.0000         18.0  ...           0.0000               0.0   \n",
              "2          0.0000         18.0  ...           0.0000               0.0   \n",
              "3          0.0000         17.0  ...           0.0000              -1.0   \n",
              "4          0.0000         17.0  ...           0.0000               0.0   \n",
              "...           ...          ...  ...              ...               ...   \n",
              "18917   1732.7788         25.2  ...        1165.2214               0.6   \n",
              "18918      0.0000         21.5  ...           0.0000               2.5   \n",
              "18919      0.0000         20.8  ...           0.0000               2.4   \n",
              "18920      0.0000         18.2  ...           0.0000               0.2   \n",
              "18921      0.0000         19.9  ...           0.0000               1.0   \n",
              "\n",
              "       ProbabilidadLluvia_diff  HumedadRelativa_diff  VelocidadViento_diff  \\\n",
              "0                            4                   1.0                  -2.0   \n",
              "1                            8                   0.0                   0.0   \n",
              "2                            5                   2.0                  -2.0   \n",
              "3                            0                   1.0                   0.0   \n",
              "4                            0                   7.0                   0.0   \n",
              "...                        ...                   ...                   ...   \n",
              "18917                        0                 -11.0                  -2.5   \n",
              "18918                        0                 -20.0                  -1.4   \n",
              "18919                        0                 -20.0                   0.3   \n",
              "18920                        0                 -28.0                   5.8   \n",
              "18921                        0                  -9.0                   4.7   \n",
              "\n",
              "       DireccionViento_diff  IndiceUV_diff VelocidadRafaga_diff  \\\n",
              "0                       0.0              0                 -2.0   \n",
              "1                       0.0              0                 -2.0   \n",
              "2                       0.0              0                 -2.0   \n",
              "3                       0.0              0                 -2.0   \n",
              "4                       0.0              0                 -2.0   \n",
              "...                     ...            ...                  ...   \n",
              "18917                  16.0              0                 -5.4   \n",
              "18918                  43.0              0                 -3.6   \n",
              "18919                  33.0              0                 -2.8   \n",
              "18920                  -9.0              0                  5.0   \n",
              "18921                 -65.0              0                  4.7   \n",
              "\n",
              "       Precipitacion_diff DPT_diff  \n",
              "0                     0.0      0.0  \n",
              "1                     0.0      0.0  \n",
              "2                     0.0      0.0  \n",
              "3                     0.0     -1.0  \n",
              "4                     0.0      1.0  \n",
              "...                   ...      ...  \n",
              "18917                 0.0     -3.4  \n",
              "18918                -1.4     -2.7  \n",
              "18919                -1.3     -2.6  \n",
              "18920                 0.0     -6.3  \n",
              "18921                -0.9     -1.4  \n",
              "\n",
              "[18922 rows x 33 columns]"
            ]
          },
          "execution_count": 21,
          "metadata": {},
          "output_type": "execute_result"
        }
      ],
      "source": [
        "datosGeneracion = pd.read_excel(\"../Datasets/Información Planta Solar Estacionaria.xlsx\")\n",
        "datosGeneracion"
      ]
    },
    {
      "cell_type": "code",
      "execution_count": 51,
      "metadata": {},
      "outputs": [
        {
          "data": {
            "text/plain": [
              "array(['Cielo nublado', 'Poco nuboso', 'Cielo cubierto', 'Despejado',\n",
              "       'Medio nublado'], dtype=object)"
            ]
          },
          "execution_count": 51,
          "metadata": {},
          "output_type": "execute_result"
        }
      ],
      "source": [
        "datosGeneracion[\"DesCondCielo\"].unique()"
      ]
    },
    {
      "cell_type": "code",
      "execution_count": 22,
      "metadata": {
        "id": "1mYY1H0D-wTO"
      },
      "outputs": [],
      "source": [
        "x = datosGeneracion[['Temperatura_diff', 'ProbabilidadLluvia_diff', 'DireccionViento_diff',\n",
        "                     'IndiceUV_diff', 'CodCondCielo', 'CodDirViento', 'VelocidadRafaga_diff', 'DPT_diff']]"
      ]
    },
    {
      "cell_type": "code",
      "execution_count": 23,
      "metadata": {
        "colab": {
          "base_uri": "https://localhost:8080/",
          "height": 443
        },
        "id": "xECqONNb-xl4",
        "outputId": "23cfe325-4939-43f2-dc20-78f0be007544"
      },
      "outputs": [
        {
          "data": {
            "text/html": [
              "<div>\n",
              "<style scoped>\n",
              "    .dataframe tbody tr th:only-of-type {\n",
              "        vertical-align: middle;\n",
              "    }\n",
              "\n",
              "    .dataframe tbody tr th {\n",
              "        vertical-align: top;\n",
              "    }\n",
              "\n",
              "    .dataframe thead th {\n",
              "        text-align: right;\n",
              "    }\n",
              "</style>\n",
              "<table border=\"1\" class=\"dataframe\">\n",
              "  <thead>\n",
              "    <tr style=\"text-align: right;\">\n",
              "      <th></th>\n",
              "      <th>Temperatura_diff</th>\n",
              "      <th>ProbabilidadLluvia_diff</th>\n",
              "      <th>DireccionViento_diff</th>\n",
              "      <th>IndiceUV_diff</th>\n",
              "      <th>CodCondCielo</th>\n",
              "      <th>CodDirViento</th>\n",
              "      <th>VelocidadRafaga_diff</th>\n",
              "      <th>DPT_diff</th>\n",
              "    </tr>\n",
              "  </thead>\n",
              "  <tbody>\n",
              "    <tr>\n",
              "      <th>0</th>\n",
              "      <td>0.447368</td>\n",
              "      <td>0.527950</td>\n",
              "      <td>0.494949</td>\n",
              "      <td>0.444444</td>\n",
              "      <td>0.75</td>\n",
              "      <td>0.375</td>\n",
              "      <td>0.494208</td>\n",
              "      <td>0.507246</td>\n",
              "    </tr>\n",
              "    <tr>\n",
              "      <th>1</th>\n",
              "      <td>0.473684</td>\n",
              "      <td>0.552795</td>\n",
              "      <td>0.494949</td>\n",
              "      <td>0.444444</td>\n",
              "      <td>0.75</td>\n",
              "      <td>0.375</td>\n",
              "      <td>0.494208</td>\n",
              "      <td>0.507246</td>\n",
              "    </tr>\n",
              "    <tr>\n",
              "      <th>2</th>\n",
              "      <td>0.473684</td>\n",
              "      <td>0.534161</td>\n",
              "      <td>0.494949</td>\n",
              "      <td>0.444444</td>\n",
              "      <td>0.25</td>\n",
              "      <td>0.375</td>\n",
              "      <td>0.494208</td>\n",
              "      <td>0.507246</td>\n",
              "    </tr>\n",
              "    <tr>\n",
              "      <th>3</th>\n",
              "      <td>0.447368</td>\n",
              "      <td>0.503106</td>\n",
              "      <td>0.494949</td>\n",
              "      <td>0.444444</td>\n",
              "      <td>0.25</td>\n",
              "      <td>0.375</td>\n",
              "      <td>0.494208</td>\n",
              "      <td>0.492754</td>\n",
              "    </tr>\n",
              "    <tr>\n",
              "      <th>4</th>\n",
              "      <td>0.473684</td>\n",
              "      <td>0.503106</td>\n",
              "      <td>0.494949</td>\n",
              "      <td>0.444444</td>\n",
              "      <td>0.25</td>\n",
              "      <td>0.375</td>\n",
              "      <td>0.494208</td>\n",
              "      <td>0.521739</td>\n",
              "    </tr>\n",
              "    <tr>\n",
              "      <th>...</th>\n",
              "      <td>...</td>\n",
              "      <td>...</td>\n",
              "      <td>...</td>\n",
              "      <td>...</td>\n",
              "      <td>...</td>\n",
              "      <td>...</td>\n",
              "      <td>...</td>\n",
              "      <td>...</td>\n",
              "    </tr>\n",
              "    <tr>\n",
              "      <th>18917</th>\n",
              "      <td>0.489474</td>\n",
              "      <td>0.503106</td>\n",
              "      <td>0.518038</td>\n",
              "      <td>0.444444</td>\n",
              "      <td>0.50</td>\n",
              "      <td>0.250</td>\n",
              "      <td>0.461390</td>\n",
              "      <td>0.457971</td>\n",
              "    </tr>\n",
              "    <tr>\n",
              "      <th>18918</th>\n",
              "      <td>0.539474</td>\n",
              "      <td>0.503106</td>\n",
              "      <td>0.556999</td>\n",
              "      <td>0.444444</td>\n",
              "      <td>0.50</td>\n",
              "      <td>0.250</td>\n",
              "      <td>0.478764</td>\n",
              "      <td>0.468116</td>\n",
              "    </tr>\n",
              "    <tr>\n",
              "      <th>18919</th>\n",
              "      <td>0.536842</td>\n",
              "      <td>0.503106</td>\n",
              "      <td>0.542569</td>\n",
              "      <td>0.444444</td>\n",
              "      <td>0.50</td>\n",
              "      <td>0.375</td>\n",
              "      <td>0.486486</td>\n",
              "      <td>0.469565</td>\n",
              "    </tr>\n",
              "    <tr>\n",
              "      <th>18920</th>\n",
              "      <td>0.478947</td>\n",
              "      <td>0.503106</td>\n",
              "      <td>0.481962</td>\n",
              "      <td>0.444444</td>\n",
              "      <td>0.50</td>\n",
              "      <td>0.375</td>\n",
              "      <td>0.561776</td>\n",
              "      <td>0.415942</td>\n",
              "    </tr>\n",
              "    <tr>\n",
              "      <th>18921</th>\n",
              "      <td>0.500000</td>\n",
              "      <td>0.503106</td>\n",
              "      <td>0.401154</td>\n",
              "      <td>0.444444</td>\n",
              "      <td>0.50</td>\n",
              "      <td>0.375</td>\n",
              "      <td>0.558880</td>\n",
              "      <td>0.486957</td>\n",
              "    </tr>\n",
              "  </tbody>\n",
              "</table>\n",
              "<p>18922 rows × 8 columns</p>\n",
              "</div>"
            ],
            "text/plain": [
              "       Temperatura_diff  ProbabilidadLluvia_diff  DireccionViento_diff  \\\n",
              "0              0.447368                 0.527950              0.494949   \n",
              "1              0.473684                 0.552795              0.494949   \n",
              "2              0.473684                 0.534161              0.494949   \n",
              "3              0.447368                 0.503106              0.494949   \n",
              "4              0.473684                 0.503106              0.494949   \n",
              "...                 ...                      ...                   ...   \n",
              "18917          0.489474                 0.503106              0.518038   \n",
              "18918          0.539474                 0.503106              0.556999   \n",
              "18919          0.536842                 0.503106              0.542569   \n",
              "18920          0.478947                 0.503106              0.481962   \n",
              "18921          0.500000                 0.503106              0.401154   \n",
              "\n",
              "       IndiceUV_diff  CodCondCielo  CodDirViento  VelocidadRafaga_diff  \\\n",
              "0           0.444444          0.75         0.375              0.494208   \n",
              "1           0.444444          0.75         0.375              0.494208   \n",
              "2           0.444444          0.25         0.375              0.494208   \n",
              "3           0.444444          0.25         0.375              0.494208   \n",
              "4           0.444444          0.25         0.375              0.494208   \n",
              "...              ...           ...           ...                   ...   \n",
              "18917       0.444444          0.50         0.250              0.461390   \n",
              "18918       0.444444          0.50         0.250              0.478764   \n",
              "18919       0.444444          0.50         0.375              0.486486   \n",
              "18920       0.444444          0.50         0.375              0.561776   \n",
              "18921       0.444444          0.50         0.375              0.558880   \n",
              "\n",
              "       DPT_diff  \n",
              "0      0.507246  \n",
              "1      0.507246  \n",
              "2      0.507246  \n",
              "3      0.492754  \n",
              "4      0.521739  \n",
              "...         ...  \n",
              "18917  0.457971  \n",
              "18918  0.468116  \n",
              "18919  0.469565  \n",
              "18920  0.415942  \n",
              "18921  0.486957  \n",
              "\n",
              "[18922 rows x 8 columns]"
            ]
          },
          "execution_count": 23,
          "metadata": {},
          "output_type": "execute_result"
        }
      ],
      "source": [
        "scaler = MinMaxScaler()\n",
        "scaled = scaler.fit_transform(x)\n",
        "x_scaled = pd.DataFrame(scaled, columns = x.columns)\n",
        "x_scaled"
      ]
    },
    {
      "cell_type": "code",
      "execution_count": 24,
      "metadata": {
        "id": "cm6RY0sz-2GC"
      },
      "outputs": [],
      "source": [
        "kmeans = KMeans(n_clusters = 9, n_init = 'auto').fit(x_scaled)"
      ]
    },
    {
      "cell_type": "code",
      "execution_count": 25,
      "metadata": {
        "colab": {
          "base_uri": "https://localhost:8080/",
          "height": 716
        },
        "id": "eY7m3-3z_FgI",
        "outputId": "b1aeb228-2863-4777-fa7d-edc70c618251"
      },
      "outputs": [
        {
          "data": {
            "text/html": [
              "<div>\n",
              "<style scoped>\n",
              "    .dataframe tbody tr th:only-of-type {\n",
              "        vertical-align: middle;\n",
              "    }\n",
              "\n",
              "    .dataframe tbody tr th {\n",
              "        vertical-align: top;\n",
              "    }\n",
              "\n",
              "    .dataframe thead th {\n",
              "        text-align: right;\n",
              "    }\n",
              "</style>\n",
              "<table border=\"1\" class=\"dataframe\">\n",
              "  <thead>\n",
              "    <tr style=\"text-align: right;\">\n",
              "      <th></th>\n",
              "      <th>Fecha</th>\n",
              "      <th>Anio</th>\n",
              "      <th>Mes</th>\n",
              "      <th>NumMes</th>\n",
              "      <th>Dia</th>\n",
              "      <th>NumDia</th>\n",
              "      <th>Hora</th>\n",
              "      <th>NumHora</th>\n",
              "      <th>Generacion</th>\n",
              "      <th>Temperatura</th>\n",
              "      <th>...</th>\n",
              "      <th>Temperatura_diff</th>\n",
              "      <th>ProbabilidadLluvia_diff</th>\n",
              "      <th>HumedadRelativa_diff</th>\n",
              "      <th>VelocidadViento_diff</th>\n",
              "      <th>DireccionViento_diff</th>\n",
              "      <th>IndiceUV_diff</th>\n",
              "      <th>VelocidadRafaga_diff</th>\n",
              "      <th>Precipitacion_diff</th>\n",
              "      <th>DPT_diff</th>\n",
              "      <th>cluster</th>\n",
              "    </tr>\n",
              "  </thead>\n",
              "  <tbody>\n",
              "    <tr>\n",
              "      <th>0</th>\n",
              "      <td>1.625184e+09</td>\n",
              "      <td>2021</td>\n",
              "      <td>199</td>\n",
              "      <td>7</td>\n",
              "      <td>6027</td>\n",
              "      <td>2</td>\n",
              "      <td>144624</td>\n",
              "      <td>0</td>\n",
              "      <td>0.0000</td>\n",
              "      <td>18.0</td>\n",
              "      <td>...</td>\n",
              "      <td>-1.0</td>\n",
              "      <td>4</td>\n",
              "      <td>1.0</td>\n",
              "      <td>-2.0</td>\n",
              "      <td>0.0</td>\n",
              "      <td>0</td>\n",
              "      <td>-2.0</td>\n",
              "      <td>0.0</td>\n",
              "      <td>0.0</td>\n",
              "      <td>5</td>\n",
              "    </tr>\n",
              "    <tr>\n",
              "      <th>1</th>\n",
              "      <td>1.625188e+09</td>\n",
              "      <td>2021</td>\n",
              "      <td>199</td>\n",
              "      <td>7</td>\n",
              "      <td>6027</td>\n",
              "      <td>2</td>\n",
              "      <td>144625</td>\n",
              "      <td>1</td>\n",
              "      <td>0.0000</td>\n",
              "      <td>18.0</td>\n",
              "      <td>...</td>\n",
              "      <td>0.0</td>\n",
              "      <td>8</td>\n",
              "      <td>0.0</td>\n",
              "      <td>0.0</td>\n",
              "      <td>0.0</td>\n",
              "      <td>0</td>\n",
              "      <td>-2.0</td>\n",
              "      <td>0.0</td>\n",
              "      <td>0.0</td>\n",
              "      <td>5</td>\n",
              "    </tr>\n",
              "    <tr>\n",
              "      <th>2</th>\n",
              "      <td>1.625191e+09</td>\n",
              "      <td>2021</td>\n",
              "      <td>199</td>\n",
              "      <td>7</td>\n",
              "      <td>6027</td>\n",
              "      <td>2</td>\n",
              "      <td>144626</td>\n",
              "      <td>2</td>\n",
              "      <td>0.0000</td>\n",
              "      <td>18.0</td>\n",
              "      <td>...</td>\n",
              "      <td>0.0</td>\n",
              "      <td>5</td>\n",
              "      <td>2.0</td>\n",
              "      <td>-2.0</td>\n",
              "      <td>0.0</td>\n",
              "      <td>0</td>\n",
              "      <td>-2.0</td>\n",
              "      <td>0.0</td>\n",
              "      <td>0.0</td>\n",
              "      <td>1</td>\n",
              "    </tr>\n",
              "    <tr>\n",
              "      <th>3</th>\n",
              "      <td>1.625195e+09</td>\n",
              "      <td>2021</td>\n",
              "      <td>199</td>\n",
              "      <td>7</td>\n",
              "      <td>6027</td>\n",
              "      <td>2</td>\n",
              "      <td>144627</td>\n",
              "      <td>3</td>\n",
              "      <td>0.0000</td>\n",
              "      <td>17.0</td>\n",
              "      <td>...</td>\n",
              "      <td>-1.0</td>\n",
              "      <td>0</td>\n",
              "      <td>1.0</td>\n",
              "      <td>0.0</td>\n",
              "      <td>0.0</td>\n",
              "      <td>0</td>\n",
              "      <td>-2.0</td>\n",
              "      <td>0.0</td>\n",
              "      <td>-1.0</td>\n",
              "      <td>1</td>\n",
              "    </tr>\n",
              "    <tr>\n",
              "      <th>4</th>\n",
              "      <td>1.625198e+09</td>\n",
              "      <td>2021</td>\n",
              "      <td>199</td>\n",
              "      <td>7</td>\n",
              "      <td>6027</td>\n",
              "      <td>2</td>\n",
              "      <td>144628</td>\n",
              "      <td>4</td>\n",
              "      <td>0.0000</td>\n",
              "      <td>17.0</td>\n",
              "      <td>...</td>\n",
              "      <td>0.0</td>\n",
              "      <td>0</td>\n",
              "      <td>7.0</td>\n",
              "      <td>0.0</td>\n",
              "      <td>0.0</td>\n",
              "      <td>0</td>\n",
              "      <td>-2.0</td>\n",
              "      <td>0.0</td>\n",
              "      <td>1.0</td>\n",
              "      <td>1</td>\n",
              "    </tr>\n",
              "    <tr>\n",
              "      <th>...</th>\n",
              "      <td>...</td>\n",
              "      <td>...</td>\n",
              "      <td>...</td>\n",
              "      <td>...</td>\n",
              "      <td>...</td>\n",
              "      <td>...</td>\n",
              "      <td>...</td>\n",
              "      <td>...</td>\n",
              "      <td>...</td>\n",
              "      <td>...</td>\n",
              "      <td>...</td>\n",
              "      <td>...</td>\n",
              "      <td>...</td>\n",
              "      <td>...</td>\n",
              "      <td>...</td>\n",
              "      <td>...</td>\n",
              "      <td>...</td>\n",
              "      <td>...</td>\n",
              "      <td>...</td>\n",
              "      <td>...</td>\n",
              "      <td>...</td>\n",
              "    </tr>\n",
              "    <tr>\n",
              "      <th>18917</th>\n",
              "      <td>1.693508e+09</td>\n",
              "      <td>2023</td>\n",
              "      <td>224</td>\n",
              "      <td>8</td>\n",
              "      <td>6817</td>\n",
              "      <td>31</td>\n",
              "      <td>163603</td>\n",
              "      <td>19</td>\n",
              "      <td>1732.7788</td>\n",
              "      <td>25.2</td>\n",
              "      <td>...</td>\n",
              "      <td>0.6</td>\n",
              "      <td>0</td>\n",
              "      <td>-11.0</td>\n",
              "      <td>-2.5</td>\n",
              "      <td>16.0</td>\n",
              "      <td>0</td>\n",
              "      <td>-5.4</td>\n",
              "      <td>0.0</td>\n",
              "      <td>-3.4</td>\n",
              "      <td>0</td>\n",
              "    </tr>\n",
              "    <tr>\n",
              "      <th>18918</th>\n",
              "      <td>1.693512e+09</td>\n",
              "      <td>2023</td>\n",
              "      <td>224</td>\n",
              "      <td>8</td>\n",
              "      <td>6817</td>\n",
              "      <td>31</td>\n",
              "      <td>163604</td>\n",
              "      <td>20</td>\n",
              "      <td>0.0000</td>\n",
              "      <td>21.5</td>\n",
              "      <td>...</td>\n",
              "      <td>2.5</td>\n",
              "      <td>0</td>\n",
              "      <td>-20.0</td>\n",
              "      <td>-1.4</td>\n",
              "      <td>43.0</td>\n",
              "      <td>0</td>\n",
              "      <td>-3.6</td>\n",
              "      <td>-1.4</td>\n",
              "      <td>-2.7</td>\n",
              "      <td>0</td>\n",
              "    </tr>\n",
              "    <tr>\n",
              "      <th>18919</th>\n",
              "      <td>1.693516e+09</td>\n",
              "      <td>2023</td>\n",
              "      <td>224</td>\n",
              "      <td>8</td>\n",
              "      <td>6817</td>\n",
              "      <td>31</td>\n",
              "      <td>163605</td>\n",
              "      <td>21</td>\n",
              "      <td>0.0000</td>\n",
              "      <td>20.8</td>\n",
              "      <td>...</td>\n",
              "      <td>2.4</td>\n",
              "      <td>0</td>\n",
              "      <td>-20.0</td>\n",
              "      <td>0.3</td>\n",
              "      <td>33.0</td>\n",
              "      <td>0</td>\n",
              "      <td>-2.8</td>\n",
              "      <td>-1.3</td>\n",
              "      <td>-2.6</td>\n",
              "      <td>0</td>\n",
              "    </tr>\n",
              "    <tr>\n",
              "      <th>18920</th>\n",
              "      <td>1.693519e+09</td>\n",
              "      <td>2023</td>\n",
              "      <td>224</td>\n",
              "      <td>8</td>\n",
              "      <td>6817</td>\n",
              "      <td>31</td>\n",
              "      <td>163606</td>\n",
              "      <td>22</td>\n",
              "      <td>0.0000</td>\n",
              "      <td>18.2</td>\n",
              "      <td>...</td>\n",
              "      <td>0.2</td>\n",
              "      <td>0</td>\n",
              "      <td>-28.0</td>\n",
              "      <td>5.8</td>\n",
              "      <td>-9.0</td>\n",
              "      <td>0</td>\n",
              "      <td>5.0</td>\n",
              "      <td>0.0</td>\n",
              "      <td>-6.3</td>\n",
              "      <td>0</td>\n",
              "    </tr>\n",
              "    <tr>\n",
              "      <th>18921</th>\n",
              "      <td>1.693523e+09</td>\n",
              "      <td>2023</td>\n",
              "      <td>224</td>\n",
              "      <td>8</td>\n",
              "      <td>6817</td>\n",
              "      <td>31</td>\n",
              "      <td>163607</td>\n",
              "      <td>23</td>\n",
              "      <td>0.0000</td>\n",
              "      <td>19.9</td>\n",
              "      <td>...</td>\n",
              "      <td>1.0</td>\n",
              "      <td>0</td>\n",
              "      <td>-9.0</td>\n",
              "      <td>4.7</td>\n",
              "      <td>-65.0</td>\n",
              "      <td>0</td>\n",
              "      <td>4.7</td>\n",
              "      <td>-0.9</td>\n",
              "      <td>-1.4</td>\n",
              "      <td>0</td>\n",
              "    </tr>\n",
              "  </tbody>\n",
              "</table>\n",
              "<p>18922 rows × 34 columns</p>\n",
              "</div>"
            ],
            "text/plain": [
              "              Fecha  Anio  Mes  NumMes   Dia  NumDia    Hora  NumHora  \\\n",
              "0      1.625184e+09  2021  199       7  6027       2  144624        0   \n",
              "1      1.625188e+09  2021  199       7  6027       2  144625        1   \n",
              "2      1.625191e+09  2021  199       7  6027       2  144626        2   \n",
              "3      1.625195e+09  2021  199       7  6027       2  144627        3   \n",
              "4      1.625198e+09  2021  199       7  6027       2  144628        4   \n",
              "...             ...   ...  ...     ...   ...     ...     ...      ...   \n",
              "18917  1.693508e+09  2023  224       8  6817      31  163603       19   \n",
              "18918  1.693512e+09  2023  224       8  6817      31  163604       20   \n",
              "18919  1.693516e+09  2023  224       8  6817      31  163605       21   \n",
              "18920  1.693519e+09  2023  224       8  6817      31  163606       22   \n",
              "18921  1.693523e+09  2023  224       8  6817      31  163607       23   \n",
              "\n",
              "       Generacion  Temperatura  ...  Temperatura_diff  \\\n",
              "0          0.0000         18.0  ...              -1.0   \n",
              "1          0.0000         18.0  ...               0.0   \n",
              "2          0.0000         18.0  ...               0.0   \n",
              "3          0.0000         17.0  ...              -1.0   \n",
              "4          0.0000         17.0  ...               0.0   \n",
              "...           ...          ...  ...               ...   \n",
              "18917   1732.7788         25.2  ...               0.6   \n",
              "18918      0.0000         21.5  ...               2.5   \n",
              "18919      0.0000         20.8  ...               2.4   \n",
              "18920      0.0000         18.2  ...               0.2   \n",
              "18921      0.0000         19.9  ...               1.0   \n",
              "\n",
              "       ProbabilidadLluvia_diff  HumedadRelativa_diff  VelocidadViento_diff  \\\n",
              "0                            4                   1.0                  -2.0   \n",
              "1                            8                   0.0                   0.0   \n",
              "2                            5                   2.0                  -2.0   \n",
              "3                            0                   1.0                   0.0   \n",
              "4                            0                   7.0                   0.0   \n",
              "...                        ...                   ...                   ...   \n",
              "18917                        0                 -11.0                  -2.5   \n",
              "18918                        0                 -20.0                  -1.4   \n",
              "18919                        0                 -20.0                   0.3   \n",
              "18920                        0                 -28.0                   5.8   \n",
              "18921                        0                  -9.0                   4.7   \n",
              "\n",
              "       DireccionViento_diff  IndiceUV_diff  VelocidadRafaga_diff  \\\n",
              "0                       0.0              0                  -2.0   \n",
              "1                       0.0              0                  -2.0   \n",
              "2                       0.0              0                  -2.0   \n",
              "3                       0.0              0                  -2.0   \n",
              "4                       0.0              0                  -2.0   \n",
              "...                     ...            ...                   ...   \n",
              "18917                  16.0              0                  -5.4   \n",
              "18918                  43.0              0                  -3.6   \n",
              "18919                  33.0              0                  -2.8   \n",
              "18920                  -9.0              0                   5.0   \n",
              "18921                 -65.0              0                   4.7   \n",
              "\n",
              "      Precipitacion_diff  DPT_diff cluster  \n",
              "0                    0.0       0.0       5  \n",
              "1                    0.0       0.0       5  \n",
              "2                    0.0       0.0       1  \n",
              "3                    0.0      -1.0       1  \n",
              "4                    0.0       1.0       1  \n",
              "...                  ...       ...     ...  \n",
              "18917                0.0      -3.4       0  \n",
              "18918               -1.4      -2.7       0  \n",
              "18919               -1.3      -2.6       0  \n",
              "18920                0.0      -6.3       0  \n",
              "18921               -0.9      -1.4       0  \n",
              "\n",
              "[18922 rows x 34 columns]"
            ]
          },
          "execution_count": 25,
          "metadata": {},
          "output_type": "execute_result"
        }
      ],
      "source": [
        "datosGeneracion[\"cluster\"] = kmeans.labels_\n",
        "datosGeneracion"
      ]
    },
    {
      "cell_type": "code",
      "execution_count": 26,
      "metadata": {
        "colab": {
          "base_uri": "https://localhost:8080/"
        },
        "id": "T177f01hBqbt",
        "outputId": "7a4a0766-9236-4ca8-eac7-e8469160373f"
      },
      "outputs": [
        {
          "data": {
            "text/plain": [
              "array([[0.46287798, 0.49912892, 0.48287638, 0.44403041, 0.49988708,\n",
              "        0.30312782, 0.51393358, 0.51653107],\n",
              "       [0.47247052, 0.4902554 , 0.48546764, 0.45010134, 0.03648244,\n",
              "        0.37853934, 0.50383945, 0.50904899],\n",
              "       [0.49217018, 0.49123594, 0.54387551, 0.44752814, 0.02290749,\n",
              "        0.83292952, 0.50560951, 0.49592671],\n",
              "       [0.4895592 , 0.5102434 , 0.55784262, 0.44469063, 0.59490399,\n",
              "        0.75738552, 0.50835363, 0.49116948],\n",
              "       [0.45283275, 0.78779323, 0.4882294 , 0.42412764, 0.79958678,\n",
              "        0.33445248, 0.53740547, 0.52288897],\n",
              "       [0.45769605, 0.48333508, 0.4915932 , 0.42962762, 0.75      ,\n",
              "        0.32536665, 0.51537586, 0.51194215],\n",
              "       [0.47523799, 0.49331085, 0.46814535, 0.44810481, 0.0194607 ,\n",
              "        0.19301704, 0.50288421, 0.51245831],\n",
              "       [0.50716352, 0.49907544, 0.55386361, 0.44642352, 0.00852417,\n",
              "        0.62964377, 0.54864374, 0.47373382],\n",
              "       [0.45816524, 0.52024939, 0.48589411, 0.4391568 , 1.        ,\n",
              "        0.31773477, 0.51643132, 0.51210917]])"
            ]
          },
          "execution_count": 26,
          "metadata": {},
          "output_type": "execute_result"
        }
      ],
      "source": [
        "kmeans.cluster_centers_"
      ]
    },
    {
      "cell_type": "code",
      "execution_count": 27,
      "metadata": {
        "id": "PXB2A1USAVfK"
      },
      "outputs": [],
      "source": [
        "inercias = []\n",
        "silhouettes = []\n",
        "davies_bouldin = []\n",
        "for k in range(2, 10):\n",
        "  kmeans = KMeans(n_clusters = k).fit(x_scaled.values)\n",
        "  inercias.append(kmeans.inertia_)\n",
        "  silhouettes.append(silhouette_score(x_scaled, kmeans.labels_))\n",
        "  davies_bouldin.append(davies_bouldin_score(x_scaled, kmeans.labels_))"
      ]
    },
    {
      "cell_type": "code",
      "execution_count": 28,
      "metadata": {
        "colab": {
          "base_uri": "https://localhost:8080/",
          "height": 485
        },
        "id": "_hNs_IaOCdqg",
        "outputId": "20c4c4ea-e7f4-45c8-e3f8-13b0d2cf7785"
      },
      "outputs": [
        {
          "data": {
            "image/png": "[encoded data removed]",
            "text/plain": [
              "<Figure size 600x500 with 1 Axes>"
            ]
          },
          "metadata": {},
          "output_type": "display_data"
        }
      ],
      "source": [
        "plt.figure(figsize=(6, 5), dpi = 100)\n",
        "plt.scatter(range(2, 10), inercias, marker = \"o\", s = 180, color = \"purple\")\n",
        "plt.xlabel(\"Número de Clusters\", fontsize = 25)\n",
        "plt.ylabel(\"Inercia\", fontsize = 25)\n",
        "plt.show()"
      ]
    },
    {
      "cell_type": "code",
      "execution_count": 29,
      "metadata": {
        "colab": {
          "base_uri": "https://localhost:8080/",
          "height": 485
        },
        "id": "0rBTVwQGEor2",
        "outputId": "235bcc55-b05a-4434-f5e2-b8c78e875745"
      },
      "outputs": [
        {
          "data": {
            "image/png": "[encoded data removed]",
            "text/plain": [
              "<Figure size 600x500 with 1 Axes>"
            ]
          },
          "metadata": {},
          "output_type": "display_data"
        }
      ],
      "source": [
        "plt.figure(figsize=(6, 5), dpi = 100)\n",
        "plt.bar(range(2, 10), silhouettes)\n",
        "plt.xlabel(\"Número de Clusters\", fontsize = 25)\n",
        "plt.ylabel(\"Silhouettes\", fontsize = 25)\n",
        "plt.show()"
      ]
    },
    {
      "cell_type": "code",
      "execution_count": 30,
      "metadata": {
        "colab": {
          "base_uri": "https://localhost:8080/",
          "height": 485
        },
        "id": "NCfLIUHzFClT",
        "outputId": "97056246-9aeb-4d5f-be55-faa83c6b1416"
      },
      "outputs": [
        {
          "data": {
            "image/png": "[encoded data removed]",
            "text/plain": [
              "<Figure size 600x500 with 1 Axes>"
            ]
          },
          "metadata": {},
          "output_type": "display_data"
        }
      ],
      "source": [
        "plt.figure(figsize=(6, 5), dpi = 100)\n",
        "plt.bar(range(2, 10), davies_bouldin)\n",
        "plt.xlabel(\"Número de Clusters\", fontsize = 25)\n",
        "plt.ylabel(\"Davies_bouldin\", fontsize = 25)\n",
        "plt.show()"
      ]
    },
    {
      "cell_type": "code",
      "execution_count": 31,
      "metadata": {
        "colab": {
          "base_uri": "https://localhost:8080/",
          "height": 300
        },
        "id": "r3qf_N1NFhhr",
        "outputId": "a4551a2e-c990-4537-be00-c03a28b8db89"
      },
      "outputs": [
        {
          "data": {
            "text/html": [
              "<div>\n",
              "<style scoped>\n",
              "    .dataframe tbody tr th:only-of-type {\n",
              "        vertical-align: middle;\n",
              "    }\n",
              "\n",
              "    .dataframe tbody tr th {\n",
              "        vertical-align: top;\n",
              "    }\n",
              "\n",
              "    .dataframe thead th {\n",
              "        text-align: right;\n",
              "    }\n",
              "</style>\n",
              "<table border=\"1\" class=\"dataframe\">\n",
              "  <thead>\n",
              "    <tr style=\"text-align: right;\">\n",
              "      <th></th>\n",
              "      <th>n_clusters</th>\n",
              "      <th>inertia</th>\n",
              "    </tr>\n",
              "  </thead>\n",
              "  <tbody>\n",
              "    <tr>\n",
              "      <th>0</th>\n",
              "      <td>2</td>\n",
              "      <td>1599.126291</td>\n",
              "    </tr>\n",
              "    <tr>\n",
              "      <th>1</th>\n",
              "      <td>3</td>\n",
              "      <td>1178.265698</td>\n",
              "    </tr>\n",
              "    <tr>\n",
              "      <th>2</th>\n",
              "      <td>4</td>\n",
              "      <td>966.261151</td>\n",
              "    </tr>\n",
              "    <tr>\n",
              "      <th>3</th>\n",
              "      <td>5</td>\n",
              "      <td>860.250754</td>\n",
              "    </tr>\n",
              "    <tr>\n",
              "      <th>4</th>\n",
              "      <td>6</td>\n",
              "      <td>795.913438</td>\n",
              "    </tr>\n",
              "    <tr>\n",
              "      <th>5</th>\n",
              "      <td>7</td>\n",
              "      <td>755.772538</td>\n",
              "    </tr>\n",
              "    <tr>\n",
              "      <th>6</th>\n",
              "      <td>8</td>\n",
              "      <td>712.853681</td>\n",
              "    </tr>\n",
              "    <tr>\n",
              "      <th>7</th>\n",
              "      <td>9</td>\n",
              "      <td>684.379096</td>\n",
              "    </tr>\n",
              "  </tbody>\n",
              "</table>\n",
              "</div>"
            ],
            "text/plain": [
              "   n_clusters      inertia\n",
              "0           2  1599.126291\n",
              "1           3  1178.265698\n",
              "2           4   966.261151\n",
              "3           5   860.250754\n",
              "4           6   795.913438\n",
              "5           7   755.772538\n",
              "6           8   712.853681\n",
              "7           9   684.379096"
            ]
          },
          "execution_count": 31,
          "metadata": {},
          "output_type": "execute_result"
        }
      ],
      "source": [
        "df_inertias = pd.DataFrame({'n_clusters': range(2, 10), 'inertia': inercias})\n",
        "df_inertias"
      ]
    },
    {
      "cell_type": "code",
      "execution_count": 32,
      "metadata": {
        "id": "Fz1c1t12F6ls"
      },
      "outputs": [],
      "source": [
        "points = [(df_inertias.iloc[0, :].n_clusters, df_inertias.iloc[0, :].inertia),\n",
        "          (df_inertias.iloc[-1, :].n_clusters, df_inertias.iloc[-1, :].inertia)\n",
        "]\n",
        "x_coords, y_coords = zip(*points)\n",
        "A = vstack([x_coords, ones(len(x_coords))]).T\n",
        "m, b = lstsq(A, y_coords, rcond = None)[0]"
      ]
    },
    {
      "cell_type": "code",
      "execution_count": 54,
      "metadata": {
        "colab": {
          "base_uri": "https://localhost:8080/",
          "height": 454
        },
        "id": "qCGE9h1WGuW9",
        "outputId": "2c063c95-aaed-4f21-8e0b-6ac02d6ef1eb"
      },
      "outputs": [
        {
          "data": {
            "image/png": "[encoded data removed]",
            "text/plain": [
              "<Figure size 640x480 with 1 Axes>"
            ]
          },
          "metadata": {},
          "output_type": "display_data"
        },
        {
          "data": {
            "text/plain": [
              "<Figure size 640x480 with 0 Axes>"
            ]
          },
          "metadata": {},
          "output_type": "display_data"
        }
      ],
      "source": [
        "plt.figure()\n",
        "plt.plot(df_inertias.n_clusters, df_inertias.inertia)\n",
        "plt.plot(df_inertias.iloc[[0, -1], :].n_clusters, df_inertias.iloc[[0, -1], :].inertia, c = 'r')\n",
        "for i, r in df_inertias.iterrows():\n",
        "  d = '$d_{' + str(i) + '}' + f' = {abs(round(r.inertia - (m * r.n_clusters + b), 2)):,}$'\n",
        "  plt.annotate(d, xytext = (r.n_clusters, m * r.n_clusters + b), xy = (r.n_clusters, m * r.n_clusters + b), rotation = 45)\n",
        "  plt.plot([r.n_clusters, r.n_clusters], [r.inertia, m * r.n_clusters + b], '--k')\n",
        "plt.xlabel('Número de clusters')\n",
        "plt.ylabel('Media de las distancias cuadradas entre grupos')\n",
        "plt.xlim((1.5, 10))\n",
        "plt.ylim((650, 1.15 * df_inertias.inertia.max()))\n",
        "plt.xticks(range(2, 10))\n",
        "plt.show()\n",
        "plt.savefig(\"Elbow Method.png\")"
      ]
    },
    {
      "cell_type": "code",
      "execution_count": 34,
      "metadata": {
        "id": "lwDrY8IWPn0i"
      },
      "outputs": [],
      "source": [
        "from sklearn.neighbors import NearestNeighbors\n",
        "\n",
        "neigh = NearestNeighbors(n_neighbors=10)\n",
        "nbrs = neigh.fit(x_scaled)\n",
        "distancias, indices = nbrs.kneighbors(x_scaled)"
      ]
    },
    {
      "cell_type": "code",
      "execution_count": 35,
      "metadata": {},
      "outputs": [
        {
          "name": "stdout",
          "output_type": "stream",
          "text": [
            "[[0.         0.         0.01930502 ... 0.02876282 0.02876282 0.02876282]\n",
            " [0.         0.01147823 0.01908808 ... 0.02714846 0.0310559  0.0310559 ]\n",
            " [0.         0.00621118 0.02027961 ... 0.03427111 0.03427111 0.03560449]\n",
            " ...\n",
            " [0.         0.02328215 0.04344491 ... 0.05219893 0.05345566 0.05350636]\n",
            " [0.         0.04150888 0.04248978 ... 0.05763884 0.05778919 0.05797254]\n",
            " [0.         0.04950615 0.04951061 ... 0.06222952 0.07092386 0.07099919]]\n"
          ]
        }
      ],
      "source": [
        "print(distancias)"
      ]
    },
    {
      "cell_type": "code",
      "execution_count": 36,
      "metadata": {},
      "outputs": [
        {
          "name": "stdout",
          "output_type": "stream",
          "text": [
            "[[    0   262  5017 ...  3485   290  3483]\n",
            " [    1  8170  8172 ...  8174  2689   190]\n",
            " [    2    32    33 ...  2699  3758  8416]\n",
            " ...\n",
            " [18919 17471 12163 ... 16335 12067  8523]\n",
            " [18920  6906  7058 ...  6352  4081  7957]\n",
            " [18921 11778 14847 ... 10952 11779 18297]]\n"
          ]
        }
      ],
      "source": [
        "print(indices)"
      ]
    },
    {
      "cell_type": "code",
      "execution_count": 37,
      "metadata": {},
      "outputs": [
        {
          "data": {
            "image/png": "[encoded data removed]",
            "text/plain": [
              "<Figure size 700x700 with 1 Axes>"
            ]
          },
          "metadata": {},
          "output_type": "display_data"
        }
      ],
      "source": [
        "distancias = np.sort(distancias, axis = 0) #Ordena las distancias\n",
        "distancias = distancias[:,9] #me quedo con la última columna, la que tiene la mayor distancia\n",
        "\n",
        "fig = plt.figure(figsize = (7, 7))\n",
        "plt.plot(distancias)\n",
        "plt.xlabel(\"Puntos\")\n",
        "plt.ylabel(\"Distancia\")\n",
        "plt.show()"
      ]
    },
    {
      "cell_type": "code",
      "execution_count": 39,
      "metadata": {},
      "outputs": [],
      "source": [
        "dbscan = DBSCAN(eps = 0.21, min_samples = 10)\n",
        "x_dbscan = dbscan.fit(x_scaled)"
      ]
    },
    {
      "cell_type": "code",
      "execution_count": 40,
      "metadata": {},
      "outputs": [],
      "source": [
        "kmeans = KMeans(n_clusters = 2, n_init = 'auto').fit(x_scaled)"
      ]
    },
    {
      "cell_type": "code",
      "execution_count": 41,
      "metadata": {},
      "outputs": [],
      "source": [
        "x_scaled[\"dbscan\"] = x_dbscan.labels_\n",
        "x_scaled[\"kmeans\"] = kmeans.labels_"
      ]
    },
    {
      "cell_type": "code",
      "execution_count": 42,
      "metadata": {},
      "outputs": [
        {
          "data": {
            "text/plain": [
              "dbscan\n",
              "-1     124\n",
              " 0    2259\n",
              " 1     993\n",
              " 2     959\n",
              " 3    9664\n",
              " 4    4923\n",
              "Name: dbscan, dtype: int64"
            ]
          },
          "execution_count": 42,
          "metadata": {},
          "output_type": "execute_result"
        }
      ],
      "source": [
        "x_scaled.groupby([\"dbscan\"])[\"dbscan\"].count()"
      ]
    },
    {
      "cell_type": "code",
      "execution_count": 43,
      "metadata": {},
      "outputs": [
        {
          "data": {
            "text/plain": [
              "kmeans\n",
              "0     8216\n",
              "1    10706\n",
              "Name: kmeans, dtype: int64"
            ]
          },
          "execution_count": 43,
          "metadata": {},
          "output_type": "execute_result"
        }
      ],
      "source": [
        "x_scaled.groupby([\"kmeans\"])[\"kmeans\"].count()"
      ]
    },
    {
      "cell_type": "code",
      "execution_count": 44,
      "metadata": {},
      "outputs": [],
      "source": [
        "dbscan_s = silhouette_score(x_scaled.drop(columns=[\"kmeans\", \"dbscan\"]), x_dbscan.labels_)\n",
        "dbscan_db = davies_bouldin_score(x_scaled.drop(columns=[\"kmeans\", \"dbscan\"]), x_dbscan.labels_)\n",
        "\n",
        "kmeans_s = silhouette_score(x_scaled.drop(columns=[\"kmeans\", \"dbscan\"]), kmeans.labels_)\n",
        "kmeans_db = davies_bouldin_score(x_scaled.drop(columns=[\"kmeans\", \"dbscan\"]), kmeans.labels_)"
      ]
    },
    {
      "cell_type": "code",
      "execution_count": 45,
      "metadata": {},
      "outputs": [
        {
          "data": {
            "text/plain": [
              "0.23160206008016362"
            ]
          },
          "execution_count": 45,
          "metadata": {},
          "output_type": "execute_result"
        }
      ],
      "source": [
        "dbscan_s"
      ]
    },
    {
      "cell_type": "code",
      "execution_count": 46,
      "metadata": {},
      "outputs": [
        {
          "data": {
            "text/plain": [
              "4.75283420421491"
            ]
          },
          "execution_count": 46,
          "metadata": {},
          "output_type": "execute_result"
        }
      ],
      "source": [
        "dbscan_db"
      ]
    },
    {
      "cell_type": "code",
      "execution_count": 47,
      "metadata": {},
      "outputs": [
        {
          "data": {
            "text/plain": [
              "0.47209819725155205"
            ]
          },
          "execution_count": 47,
          "metadata": {},
          "output_type": "execute_result"
        }
      ],
      "source": [
        "kmeans_s"
      ]
    },
    {
      "cell_type": "code",
      "execution_count": 48,
      "metadata": {},
      "outputs": [
        {
          "data": {
            "text/plain": [
              "0.854079078446489"
            ]
          },
          "execution_count": 48,
          "metadata": {},
          "output_type": "execute_result"
        }
      ],
      "source": [
        "kmeans_db"
      ]
    }
  ],
  "metadata": {
    "colab": {
      "authorship_tag": "ABX9TyNwtM87i4ApGpXtWtcrondb",
      "include_colab_link": true,
      "provenance": [],
      "toc_visible": true
    },
    "kernelspec": {
      "display_name": "Python 3",
      "name": "python3"
    },
    "language_info": {
      "codemirror_mode": {
        "name": "ipython",
        "version": 3
      },
      "file_extension": ".py",
      "mimetype": "text/x-python",
      "name": "python",
      "nbconvert_exporter": "python",
      "pygments_lexer": "ipython3",
      "version": "3.10.13"
    }
  },
  "nbformat": 4,
  "nbformat_minor": 0
}
