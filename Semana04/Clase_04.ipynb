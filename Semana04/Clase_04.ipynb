{
 "cells": [
  {
   "cell_type": "markdown",
   "metadata": {},
   "source": [
    "# Clase 04: Selección de características\n",
    "\n",
    "Librería sklearn para Machine Learning: https://scikit-learn.org/stable/\n",
    "\n",
    "Entre más valor F hay, tienen una relación más lineal entre sí usando la técnica del f value.\n",
    "\n",
    "En la gráfica del f value, los más pequeños no necesariamente deben descartarse, sino que éstos pueden no ser lineales, se podrian transformar e intentar linealizarlos. Puede que una de esas variables realmente esté aportando.\n",
    "\n",
    "featurewiz: librería de selector nueva, estudiar.\n",
    "\n",
    "https://www.sciencedirect.com/book/9780444520876/dictionary-of-distances Diferentes distancias de error, para seleccionar las características.\n",
    "\n",
    "https://cienciadedatos.net/documentos/py19-pca-python.html PCA\n",
    "\n",
    "PCA utiliza valores normalizados\n",
    "\n",
    "SelectKBest\n",
    "\n",
    "https://machinelearningmastery.com/feature-selection-time-series-forecasting-python/\n",
    "\n",
    "get_dummy para convertir variables categóricas a numéricas para la selección de características"
   ]
  },
  {
   "cell_type": "code",
   "execution_count": null,
   "metadata": {},
   "outputs": [],
   "source": []
  }
 ],
 "metadata": {
  "language_info": {
   "name": "python"
  },
  "orig_nbformat": 4
 },
 "nbformat": 4,
 "nbformat_minor": 2
}
