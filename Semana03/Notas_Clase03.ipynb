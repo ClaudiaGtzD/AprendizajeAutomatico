{
 "cells": [
  {
   "cell_type": "markdown",
   "metadata": {},
   "source": [
    "fmean: es un promedio pero para mayores conjuntos de datos, es más eficiente.\n",
    "\n",
    "https://imbalanced-learn.org/stable/index.html\n",
    "\n",
    "Distribución empírica"
   ]
  },
  {
   "cell_type": "code",
   "execution_count": null,
   "metadata": {},
   "outputs": [],
   "source": []
  }
 ],
 "metadata": {
  "language_info": {
   "name": "python"
  },
  "orig_nbformat": 4
 },
 "nbformat": 4,
 "nbformat_minor": 2
}
